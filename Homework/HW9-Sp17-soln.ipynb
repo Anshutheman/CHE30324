{
 "cells": [
  {
   "cell_type": "markdown",
   "metadata": {},
   "source": [
    "# Chem 30324, Spring 2017, Homework 9\n",
    "Due April 19, 2017"
   ]
  },
  {
   "cell_type": "markdown",
   "metadata": {},
   "source": [
    "## Multi-electron atoms and the self-consistent field.\n",
    "### Modern calculations on atom and molecules take advantage of the variational principle and are made with sophisticated computer programs that solve the many-electron Schrödinger equation. *Density functional theory* (DFT) is the most common set of approximations for the electron-electron interactions used today. In this problem you’ll do a DFT calculation using the *Gaussian* program (<http://www.gaussian.com>)."
   ]
  },
  {
   "cell_type": "markdown",
   "metadata": {},
   "source": [
    "### Now, let’s set up your calculation (you may do this with a partner if you choose):\n",
    "1. Log into the Webmo server https://www.webmo.net/demoserver/cgi-bin/webmo/login.cgi using \"guest\" as your username and password.\n",
    "2. Select New Job-Creat New Job.\n",
    "3. Use the available tools to draw an argon (Ar) atom on the screen.\n",
    "4. Use the right arrow at the bottom to proceed to the Computational Engines.\n",
    "5. Choose Gaussian\n",
    "6. Select “Molecular Orbitals” for the Calculation type, “B3LYP” for theory, “Minimal” for the basis set, “0” for the charge, and “Singlet” for the multiplicity.\n",
    "7. Select the right arrow to run the calculation.\n",
    "8. From the job manager window choose the completed calculation to view the results."
   ]
  },
  {
   "cell_type": "markdown",
   "metadata": {},
   "source": [
    "### 1. Write down the energies of the occupied molecular orbitals and identify them by their shell ( $n = 1, 2, \\ldots$) and subshell (s, p, d, ...). For fun, click on the Magnifying Glass icons to see the molecular orbitals in 3-D. You may have to play around with the Display Settings and Preferences to get good views."
   ]
  },
  {
   "cell_type": "markdown",
   "metadata": {},
   "source": [
    "|Orbital|Energy (Hartree)|\n",
    "|-|-|\n",
    "|1s|-113.791|\n",
    "|2s|-10.826|\n",
    "|2p|-8.425|\n",
    "|3s|-0.8497|\n",
    "|3p|-0.3178|\n"
   ]
  },
  {
   "cell_type": "markdown",
   "metadata": {},
   "source": [
    "### You are welcome to play around with other atoms. For anything other than the noble gases, be sure to set the Multiplicity to a sensible value."
   ]
  },
  {
   "cell_type": "markdown",
   "metadata": {},
   "source": [
    "## Molecular Orbitals.\n",
    "### The orbitals in molecules can be constructed from linear combinations of atomic orbitals on the constituent atoms (in this context, the atomic orbitals are called “basis functions”). One of the factors that determines whether two atomic orbitals can form a molecular orbital is there ability to overlap. Consider two atoms, A and B, aligned on the z axis and separated by a distance $R$."
   ]
  },
  {
   "cell_type": "markdown",
   "metadata": {},
   "source": [
    "### 1. The overlap between two 1s orbitals on A and B can be shown to be: $$S = \\left \\{1+\\frac{R}{a_0}+\\frac{1}{3}\\left (\\frac{R}{a_0}\\right )^2\\right \\}e^{-R/a_0}$$ Plot out the overlap as a function of the internuclear distance $R$. Qualitatively explain why it has the shape it has."
   ]
  },
  {
   "cell_type": "code",
   "execution_count": 17,
   "metadata": {
    "collapsed": false
   },
   "outputs": [
    {
     "data": {
      "image/png": "[encoded data removed]",
      "text/plain": [
       "<matplotlib.figure.Figure at 0x7fa6f8cf1ef0>"
      ]
     },
     "metadata": {},
     "output_type": "display_data"
    }
   ],
   "source": [
    "import numpy as np\n",
    "import matplotlib.pyplot as plt\n",
    "\n",
    "r = np.linspace(0,16,100) # r = R/a_0\n",
    "P = (1+r+1/3*r**2)*np.exp(-r)\n",
    "plt.plot(r,P)\n",
    "\n",
    "plt.xlim(0,16)\n",
    "plt.ylim(0,1.1)\n",
    "plt.xlabel('Internuclear Distance $R/a_0$')\n",
    "plt.ylabel('Overlap S')\n",
    "plt.title('The Overlap Between Two 1s Orbitals')\n",
    "plt.show()"
   ]
  },
  {
   "cell_type": "markdown",
   "metadata": {},
   "source": [
    "At R = 0, the two orbitals overlap completely, thus overlap integral S = 1. As R increases, the orbital overlap decreases, then it approaches a point where there is no orbital overlap (S = 0)."
   ]
  },
  {
   "cell_type": "markdown",
   "metadata": {},
   "source": [
    "### 2. The overlap functions for other pairs of orbitals are more complicated, but the general features are easily inferred. Neatly sketch the orbital overlap between a 1s orbital on A and 2p$_z$ orbital on B as a function $R$. Carefully indicate the limiting values as $R \\rightarrow 0$ and $R \\rightarrow \\infty$."
   ]
  },
  {
   "cell_type": "markdown",
   "metadata": {},
   "source": [
    "![](imgs/HW9-1.jpg)"
   ]
  },
  {
   "cell_type": "markdown",
   "metadata": {},
   "source": [
    "### 3. Ditto for 1s orbital on A and 2p$_x$ orbital on B."
   ]
  },
  {
   "cell_type": "markdown",
   "metadata": {},
   "source": [
    "### 4. Ditto for 2p$_z$ orbital on A and 2p$_z$ orbital on B."
   ]
  },
  {
   "cell_type": "markdown",
   "metadata": {},
   "source": [
    "### 5. Ditto for 2p$_z$ orbital on A and 3d$_z^2$ orbital on B."
   ]
  },
  {
   "cell_type": "markdown",
   "metadata": {},
   "source": [
    "### 6. What property besides overlap determines whether two atomic orbitals will form a molecular orbital?"
   ]
  },
  {
   "cell_type": "markdown",
   "metadata": {},
   "source": [
    "The energies of the two atomic orbitals should match."
   ]
  },
  {
   "cell_type": "markdown",
   "metadata": {},
   "source": [
    "## The Hückel model and π orbitals"
   ]
  },
  {
   "cell_type": "markdown",
   "metadata": {},
   "source": [
    "### One of the first successes of molecular orbital theory was application to the π systems of conjugated hydrocarbons. (See [Roberts, Notes on Molecular Orbital Theory](http://resolver.caltech.edu/CaltechBOOK:1961.001).) In the Hückel model, one constructs a π-only secular matrix and uses simple rules for the matrix elements. $S_{ii} = 1$ for a basis function with itself and $S_{ij} = 0$ otherwise. $F_{ii} = \\alpha$ for a basis function with itself, $F_{ij}=\\beta$ between adjacent atoms, and $F_{ij}=0$ otherwise. "
   ]
  },
  {
   "cell_type": "markdown",
   "metadata": {},
   "source": [
    "### 1. Construct and solve the secular matrix for cyclopentane, C$_5$H$_5$.  Make an energy level diagram for the π system."
   ]
  },
  {
   "cell_type": "code",
   "execution_count": 19,
   "metadata": {
    "collapsed": false
   },
   "outputs": [],
   "source": [
    "from sympy import *\n",
    "alpha,beta = symbols('alpha beta')\n",
    "M=Matrix([[alpha, beta, 0 , 0, beta],[beta, alpha, beta, 0, 0],[0, beta, alpha, beta, 0],[0, 0, beta, alpha, beta],[beta, 0, 0, beta, alpha]])"
   ]
  },
  {
   "cell_type": "code",
   "execution_count": 20,
   "metadata": {
    "collapsed": false
   },
   "outputs": [
    {
     "data": {
      "image/png": "[encoded data removed]",
      "text/latex": [
       "$$\\left[\\begin{matrix}\\alpha & \\beta & 0 & 0 & \\beta\\\\\\beta & \\alpha & \\beta & 0 & 0\\\\0 & \\beta & \\alpha & \\beta & 0\\\\0 & 0 & \\beta & \\alpha & \\beta\\\\\\beta & 0 & 0 & \\beta & \\alpha\\end{matrix}\\right]$$"
      ],
      "text/plain": [
       "⎡α  β  0  0  β⎤\n",
       "⎢             ⎥\n",
       "⎢β  α  β  0  0⎥\n",
       "⎢             ⎥\n",
       "⎢0  β  α  β  0⎥\n",
       "⎢             ⎥\n",
       "⎢0  0  β  α  β⎥\n",
       "⎢             ⎥\n",
       "⎣β  0  0  β  α⎦"
      ]
     },
     "execution_count": 20,
     "metadata": {},
     "output_type": "execute_result"
    }
   ],
   "source": [
    "M"
   ]
  },
  {
   "cell_type": "code",
   "execution_count": 21,
   "metadata": {
    "collapsed": false
   },
   "outputs": [
    {
     "data": {
      "image/png": "[encoded data removed]",
      "text/latex": [
       "$$\\left [ \\left ( \\alpha + 2 \\beta, \\quad 1, \\quad \\left [ \\left[\\begin{matrix}1\\\\1\\\\1\\\\1\\\\1\\end{matrix}\\right]\\right ]\\right ), \\quad \\left ( \\alpha - \\frac{\\beta}{2} + \\frac{\\sqrt{5} \\beta}{2}, \\quad 2, \\quad \\left [ \\left[\\begin{matrix}\\frac{4}{\\left(1 + \\sqrt{5}\\right) \\left(- \\sqrt{5} + 1\\right)}\\\\- \\frac{2}{1 + \\sqrt{5}}\\\\\\frac{2}{1 + \\sqrt{5}}\\\\1\\\\0\\end{matrix}\\right], \\quad \\left[\\begin{matrix}- \\frac{4}{\\left(- \\sqrt{5} + 1\\right)^{2}} - \\frac{2}{- \\sqrt{5} + 1} + \\frac{8}{\\left(1 + \\sqrt{5}\\right) \\left(- \\sqrt{5} + 1\\right)^{2}}\\\\\\frac{2}{- \\sqrt{5} + 1} - \\frac{4}{\\left(1 + \\sqrt{5}\\right) \\left(- \\sqrt{5} + 1\\right)}\\\\\\frac{4}{\\left(1 + \\sqrt{5}\\right) \\left(- \\sqrt{5} + 1\\right)}\\\\0\\\\1\\end{matrix}\\right]\\right ]\\right ), \\quad \\left ( \\alpha - \\frac{\\sqrt{5} \\beta}{2} - \\frac{\\beta}{2}, \\quad 2, \\quad \\left [ \\left[\\begin{matrix}- \\frac{4}{\\left(-1 + \\sqrt{5}\\right) \\left(1 + \\sqrt{5}\\right)}\\\\\\frac{2}{-1 + \\sqrt{5}}\\\\- \\frac{2}{-1 + \\sqrt{5}}\\\\1\\\\0\\end{matrix}\\right], \\quad \\left[\\begin{matrix}- \\frac{2}{1 + \\sqrt{5}} - \\frac{8}{\\left(-1 + \\sqrt{5}\\right) \\left(1 + \\sqrt{5}\\right)^{2}} - \\frac{4}{\\left(1 + \\sqrt{5}\\right)^{2}}\\\\\\frac{2}{1 + \\sqrt{5}} + \\frac{4}{\\left(-1 + \\sqrt{5}\\right) \\left(1 + \\sqrt{5}\\right)}\\\\- \\frac{4}{\\left(-1 + \\sqrt{5}\\right) \\left(1 + \\sqrt{5}\\right)}\\\\0\\\\1\\end{matrix}\\right]\\right ]\\right )\\right ]$$"
      ],
      "text/plain": [
       "⎡                     ⎛    β   √5⋅β     ⎡⎡        4         ⎤  ⎡      4       \n",
       "⎢⎛α + 2⋅β, 1, ⎡⎡1⎤⎤⎞, ⎜α - ─ + ────, 2, ⎢⎢──────────────────⎥, ⎢- ────────── -\n",
       "⎢⎜            ⎢⎢ ⎥⎥⎟  ⎜    2    2       ⎢⎢(1 + √5)⋅(-√5 + 1)⎥  ⎢           2  \n",
       "⎢⎜            ⎢⎢1⎥⎥⎟  ⎜                 ⎢⎢                  ⎥  ⎢  (-√5 + 1)   \n",
       "⎢⎜            ⎢⎢ ⎥⎥⎟  ⎜                 ⎢⎢       -2         ⎥  ⎢              \n",
       "⎢⎜            ⎢⎢1⎥⎥⎟  ⎜                 ⎢⎢      ──────      ⎥  ⎢           2  \n",
       "⎢⎜            ⎢⎢ ⎥⎥⎟  ⎜                 ⎢⎢      1 + √5      ⎥  ⎢        ──────\n",
       "⎢⎜            ⎢⎢1⎥⎥⎟  ⎜                 ⎢⎢                  ⎥  ⎢        -√5 + \n",
       "⎢⎜            ⎢⎢ ⎥⎥⎟  ⎜                 ⎢⎢        2         ⎥  ⎢              \n",
       "⎢⎝            ⎣⎣1⎦⎦⎠  ⎜                 ⎢⎢      ──────      ⎥  ⎢              \n",
       "⎢                     ⎜                 ⎢⎢      1 + √5      ⎥  ⎢             ─\n",
       "⎢                     ⎜                 ⎢⎢                  ⎥  ⎢             (\n",
       "⎢                     ⎜                 ⎢⎢        1         ⎥  ⎢              \n",
       "⎢                     ⎜                 ⎢⎢                  ⎥  ⎢              \n",
       "⎢                     ⎜                 ⎢⎣        0         ⎦  ⎢              \n",
       "⎣                     ⎝                 ⎣                      ⎣              \n",
       "\n",
       "    2               8         ⎤⎤⎞  ⎛    √5⋅β   β     ⎡⎡       -4         ⎤  ⎡ \n",
       " ─────── + ───────────────────⎥⎥⎟, ⎜α - ──── - ─, 2, ⎢⎢──────────────────⎥, ⎢-\n",
       " -√5 + 1                     2⎥⎥⎟  ⎜     2     2     ⎢⎢(-1 + √5)⋅(1 + √5)⎥  ⎢ \n",
       "           (1 + √5)⋅(-√5 + 1) ⎥⎥⎟  ⎜                 ⎢⎢                  ⎥  ⎢ \n",
       "                              ⎥⎥⎟  ⎜                 ⎢⎢        2         ⎥  ⎢ \n",
       "            4                 ⎥⎥⎟  ⎜                 ⎢⎢     ───────      ⎥  ⎢ \n",
       "─ - ──────────────────        ⎥⎥⎟  ⎜                 ⎢⎢     -1 + √5      ⎥  ⎢ \n",
       "1   (1 + √5)⋅(-√5 + 1)        ⎥⎥⎟  ⎜                 ⎢⎢                  ⎥  ⎢ \n",
       "                              ⎥⎥⎟  ⎜                 ⎢⎢       -2         ⎥  ⎢ \n",
       "       4                      ⎥⎥⎟  ⎜                 ⎢⎢     ───────      ⎥  ⎢ \n",
       "─────────────────             ⎥⎥⎟  ⎜                 ⎢⎢     -1 + √5      ⎥  ⎢ \n",
       "1 + √5)⋅(-√5 + 1)             ⎥⎥⎟  ⎜                 ⎢⎢                  ⎥  ⎢ \n",
       "                              ⎥⎥⎟  ⎜                 ⎢⎢        1         ⎥  ⎢ \n",
       "       0                      ⎥⎥⎟  ⎜                 ⎢⎢                  ⎥  ⎢ \n",
       "                              ⎥⎥⎟  ⎜                 ⎢⎣        0         ⎦  ⎢ \n",
       "       1                      ⎦⎦⎠  ⎝                 ⎣                      ⎣ \n",
       "\n",
       "   2               8                4    ⎤⎤⎞⎤\n",
       " ────── - ─────────────────── - ─────────⎥⎥⎟⎥\n",
       " 1 + √5                     2           2⎥⎥⎟⎥\n",
       "          (-1 + √5)⋅(1 + √5)    (1 + √5) ⎥⎥⎟⎥\n",
       "                                         ⎥⎥⎟⎥\n",
       "        2              4                 ⎥⎥⎟⎥\n",
       "      ────── + ──────────────────        ⎥⎥⎟⎥\n",
       "      1 + √5   (-1 + √5)⋅(1 + √5)        ⎥⎥⎟⎥\n",
       "                                         ⎥⎥⎟⎥\n",
       "                  -4                     ⎥⎥⎟⎥\n",
       "           ──────────────────            ⎥⎥⎟⎥\n",
       "           (-1 + √5)⋅(1 + √5)            ⎥⎥⎟⎥\n",
       "                                         ⎥⎥⎟⎥\n",
       "                   0                     ⎥⎥⎟⎥\n",
       "                                         ⎥⎥⎟⎥\n",
       "                   1                     ⎦⎦⎠⎦"
      ]
     },
     "execution_count": 21,
     "metadata": {},
     "output_type": "execute_result"
    }
   ],
   "source": [
    "M.eigenvects()"
   ]
  },
  {
   "cell_type": "markdown",
   "metadata": {},
   "source": [
    "$E_1 = \\alpha + 2\\beta$, $E_2 = \\alpha -\\frac{\\beta}{2}+ \\frac{\\sqrt{5}\\beta}{2} \\approx \\alpha + 0.618\\beta$, $E_3 = \\alpha -\\frac{\\beta}{2}- \\frac{\\sqrt{5}\\beta}{2} \\approx \\alpha - 1.618\\beta$"
   ]
  },
  {
   "cell_type": "markdown",
   "metadata": {},
   "source": [
    "![](imgs/HW9-2.jpg)"
   ]
  },
  {
   "cell_type": "markdown",
   "metadata": {},
   "source": [
    "### 2. Use back-substitution to determine the coefficients for each molecular orbital."
   ]
  },
  {
   "cell_type": "markdown",
   "metadata": {},
   "source": [
    "The 5 eigenvectors are the 5 sets of coefficients. Use python to normalize the coefficients to make $c_1^2 + c_2^2 + c_3^2 + c_4^2 + c_5^2 = 1$."
   ]
  },
  {
   "cell_type": "code",
   "execution_count": 22,
   "metadata": {
    "collapsed": false
   },
   "outputs": [
    {
     "name": "stdout",
     "output_type": "stream",
     "text": [
      "[0.44721359549995793, 0.44721359549995793, 0.44721359549995793, 0.44721359549995793, 0.44721359549995793] [-0.60150095500754575, -0.37174803446018456, 0.37174803446018456, 0.60150095500754575, 0.0] [0.37174803446018456, -0.37174803446018456, -0.60150095500754575, 0.0, 0.60150095500754575] [-0.37174803446018445, 0.60150095500754563, -0.60150095500754563, 0.37174803446018445, 0.0] [-0.60150095500754563, 0.60150095500754563, -0.37174803446018445, 0.0, 0.37174803446018445]\n"
     ]
    }
   ],
   "source": [
    "import numpy as np\n",
    "\"eigenvectors\" # the munbers in eigenvectors are already simplified using \"simplify\" in sympy\n",
    "c1 = [1,1,1,1,1] \n",
    "c2 = [-1,-np.sqrt(5)/2 + 1/2,-1/2 + np.sqrt(5)/2,1,0] \n",
    "c3 = [-1/2 + np.sqrt(5)/2,-np.sqrt(5)/2 + 1/2,-1,0,1] \n",
    "c4 = [-1,1/2 + np.sqrt(5)/2,-np.sqrt(5)/2 - 1/2,1,0] \n",
    "c5 = [-np.sqrt(5)/2 - 1/2,1/2 + np.sqrt(5)/2,-1,0,1]\n",
    "\"normalize the coefficients\"\n",
    "s1 = s2 = s4 = 0 # s3 = s2, s5 = s4\n",
    "n1,n2,n3,n4,n5 = [],[],[],[],[] # normalized eigenvectors\n",
    "for i in c1:\n",
    "    s1 = s1 + i**2\n",
    "for i in c2:\n",
    "    s2 = s2 + i**2\n",
    "for i in c4:\n",
    "    s4 = s4 + i**2\n",
    "for i in c1:\n",
    "    n1.append(i/np.sqrt(s1))\n",
    "for i in c2:\n",
    "    n2.append(i/np.sqrt(s2))\n",
    "for i in c3:\n",
    "    n3.append(i/np.sqrt(s2)) #  s3 = s2\n",
    "for i in c4:\n",
    "    n4.append(i/np.sqrt(s4))\n",
    "for i in c5:\n",
    "    n5.append(i/np.sqrt(s4)) # s5 = s4\n",
    "print(n1,n2,n3,n4,n5)"
   ]
  },
  {
   "cell_type": "markdown",
   "metadata": {},
   "source": [
    "$\\psi_1 = 0.4472\\phi_1 + 0.4472\\phi_2 + 0.4472\\phi_3 + 0.4472\\phi_4 +0.4472\\phi_5$"
   ]
  },
  {
   "cell_type": "markdown",
   "metadata": {},
   "source": [
    "$\\psi_2 = -0.6015\\phi_1 -0.3717\\phi_2 + 0.3717\\phi_3 + 0.6015\\phi_4$"
   ]
  },
  {
   "cell_type": "markdown",
   "metadata": {},
   "source": [
    "$\\psi_3 = 0.3717\\phi_1 -0.3717\\phi_2 -0.6015\\phi_3 + 0.6015\\phi_5$"
   ]
  },
  {
   "cell_type": "markdown",
   "metadata": {},
   "source": [
    "$\\psi_4 = -0.3717\\phi_1 + 0.6015\\phi_2 -0.6015\\phi_3 + 0.3717\\phi_4$"
   ]
  },
  {
   "cell_type": "markdown",
   "metadata": {},
   "source": [
    "$\\psi_5 = -0.6015\\phi_1 + 0.6015\\phi_2 -0.3717\\phi_3 + 0.3717\\phi_5$"
   ]
  },
  {
   "cell_type": "markdown",
   "metadata": {},
   "source": [
    "### 3. Predict the spin-multiplicities of C$_5$H$_5^+$, C$_5$H$_5$, and C$_5$H$_5^-$.  In which one do you expect all the C-C distances to be the same?"
   ]
  },
  {
   "cell_type": "markdown",
   "metadata": {},
   "source": [
    "According to the energy level diagram for the π system, C$_5$H$_5^+$ has 4 $\\pi$ electrons, 2 unpaired electrons, the spin-multiplicity is 3; C$_5$H$_5$ has 5 $\\pi$ electrons, 1 unpaired electrons, the spin-multiplicity is 2; C$_5$H$_5^-$ has 6 $\\pi$ electrons, 0 unpaired electrons, the spin-multiplicity is 1. C$_5$H$_5^-$ follows the Hückel's rule (has 4n + 2 $\\pi$ electrons), so it has aromatic properties and all the C-C distances will be the same."
   ]
  },
  {
   "cell_type": "code",
   "execution_count": null,
   "metadata": {
    "collapsed": true
   },
   "outputs": [],
   "source": []
  }
 ],
 "metadata": {
  "anaconda-cloud": {},
  "kernelspec": {
   "display_name": "Python [conda root]",
   "language": "python",
   "name": "conda-root-py"
  },
  "language_info": {
   "codemirror_mode": {
    "name": "ipython",
    "version": 2
   },
   "file_extension": ".py",
   "mimetype": "text/x-python",
   "name": "python",
   "nbconvert_exporter": "python",
   "pygments_lexer": "ipython2",
   "version": "2.7.13"
  }
 },
 "nbformat": 4,
 "nbformat_minor": 1
}
