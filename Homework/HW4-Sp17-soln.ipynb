{
 "cells": [
  {
   "cell_type": "markdown",
   "metadata": {},
   "source": [
    "# Chem 30324, Spring 2017, Homework 4\n",
    "Due February 22, 2017"
   ]
  },
  {
   "cell_type": "markdown",
   "metadata": {},
   "source": [
    "### In a “1-dimensional hydrogen atom”, an electron is confined to the positive x axis and attracted to a proton at the origin. The potential felt by the electron can be written as"
   ]
  },
  {
   "cell_type": "markdown",
   "metadata": {},
   "source": [
    "$$V(x) =\n",
    "  \\begin{cases}\n",
    "    -C\\frac{1}{x}  & \\quad      \\text{if x} > \\text{0}\\\\\n",
    "    \\infty         & \\quad      \\text{if x} \\le \\text{0}\\\\\n",
    "  \\end{cases}$$"
   ]
  },
  {
   "cell_type": "markdown",
   "metadata": {},
   "source": [
    "### where $c = \\frac{e^2}{4\\pi\\epsilon_0} = \\frac{\\hbar^2}{m_ea_0}$ is a bunch of constants with units energy times distance. In particular, $m_e$ is the electron mass and $a_0$ is the bohr radius, a convenient unit of length equal to 0.529 Å. It’s easiest to solve the problems below using the second set of constants. Further, the following equations are often of use in solving problems related to this system:"
   ]
  },
  {
   "cell_type": "markdown",
   "metadata": {},
   "source": [
    "$$\\int_0^\\infty x^n\\mathrm{e}^{-ax}\\,\\mathrm{d}x = \\frac{n!}{a^{n+1}},\\quad \\frac{d}{dx}x\\mathrm{e}^{-ax} = \\mathrm{e}^{-ax}(1-ax),\\quad \\frac{d^2}{dx^2}x\\mathrm{e}^{-ax} = a\\mathrm{e}^{-ax}(ax-2)$$"
   ]
  },
  {
   "cell_type": "markdown",
   "metadata": {},
   "source": [
    "### 1. Write down the time-independent Schrödinger equation for the 1-D H atom. Remember to include the domain of the equation."
   ]
  },
  {
   "cell_type": "markdown",
   "metadata": {},
   "source": [
    "The time-independent Schrödinger equation is $\\hat{H}\\Psi = E\\Psi$. In a “1-dimensional hydrogen atom”, $\\hat{H} = -\\frac{\\hbar^2}{2m}\\frac{d^2}{dx^2}-\\frac{c}{x}$, (x>0)."
   ]
  },
  {
   "cell_type": "markdown",
   "metadata": {},
   "source": [
    "So the time-independent Schrödinger equation of this system is $-\\frac{\\hbar^2}{2m}\\frac{d^2}{dx^2}\\Psi-\\frac{c}{x}\\Psi = E\\Psi$, (x>0)."
   ]
  },
  {
   "cell_type": "markdown",
   "metadata": {},
   "source": [
    "### 2. Would $\\phi(x) = e^{ikx}$ be an acceptable wavefunction for this system? Why or why not?"
   ]
  },
  {
   "cell_type": "markdown",
   "metadata": {},
   "source": [
    "$\\phi(x) = e^{ikx}$ is not an acceptable wavefunction for this system. According to Postulate 1 of Quantum Mechanics, a wavefunction is required to be square-integrable. In this case, $\\int_0^\\infty \\phi(x)\\ast\\phi(x)dx = \\infty$, $\\phi(x)$ is not square-integrable and it can not be normalized."
   ]
  },
  {
   "cell_type": "markdown",
   "metadata": {},
   "source": [
    "### 3. Consider the candidate wavefunction $\\Psi_1(x) = \\frac{x}{a_0}e^{-x/a_0}$. Plot $V(x)$ and $\\Psi_1(x)$. Be sure to label axes appropriately. ($Hint$: it is convenient to work in units of $a_0$. That is, make your plots against $x /a_0$ .)"
   ]
  },
  {
   "cell_type": "code",
   "execution_count": 8,
   "metadata": {
    "collapsed": false
   },
   "outputs": [
    {
     "data": {
      "image/png": "[encoded data removed]",
      "text/plain": [
       "<matplotlib.figure.Figure at 0x10ff695f8>"
      ]
     },
     "metadata": {},
     "output_type": "display_data"
    },
    {
     "data": {
      "image/png": "[encoded data removed]",
      "text/plain": [
       "<matplotlib.figure.Figure at 0x10ff694a8>"
      ]
     },
     "metadata": {},
     "output_type": "display_data"
    }
   ],
   "source": [
    "import numpy as np\n",
    "import matplotlib.pyplot as plt\n",
    "\n",
    "hbar = 1.05457e-34 #J*s\n",
    "me = 9.109e-31 # kg\n",
    "a0 = 0.529e-10 # m\n",
    "\n",
    "x = np.linspace(0.1,10,200)\n",
    "Psi_1 = x*np.exp(-x) # replace x/a0 by x\n",
    "V = -hbar**2/me/a0**2/x # replace x/a0 by x\n",
    "\n",
    "plt.plot(x,Psi_1)\n",
    "plt.xlabel('$x/a_0$')\n",
    "plt.ylabel('$\\Psi_1(x)$')\n",
    "plt.show()\n",
    "plt.plot(x,V)\n",
    "plt.xlabel('$x/a_0$')\n",
    "plt.ylabel('$V(x)(J)$')\n",
    "plt.show()"
   ]
  },
  {
   "cell_type": "markdown",
   "metadata": {},
   "source": [
    "### 4. Is $\\Psi_1(x)$ normalized? If not, construct the normalized $\\tilde{\\Psi}_{1}(x)$ . It is ok to express you answer in terms of fundamental constants."
   ]
  },
  {
   "cell_type": "code",
   "execution_count": 9,
   "metadata": {
    "collapsed": false
   },
   "outputs": [
    {
     "name": "stdout",
     "output_type": "stream",
     "text": [
      "2/sqrt(a0)\n"
     ]
    }
   ],
   "source": [
    "from sympy import * # import sympy for symbolic mathematics\n",
    "x = symbols('x')\n",
    "a0 = symbols('a0',positive=True)\n",
    "a = integrate(((x/a0*exp(-x/a0))**2),(x,0,oo)) # integrate the square of wavefunction \n",
    "print (sqrt(1/a)) # normalization coefficient "
   ]
  },
  {
   "cell_type": "markdown",
   "metadata": {},
   "source": [
    "$\\Psi_1(x)$ is not normalized, the factor is $\\frac{2}{a_0}$, $\\tilde{\\Psi}_{1}(x) = \\frac{2x}{a_0^{3/2}}e^{-x/a_0}$."
   ]
  },
  {
   "cell_type": "markdown",
   "metadata": {},
   "source": [
    "### 5. What is the most probable distance of the electron from the proton, in units of $a_0$?"
   ]
  },
  {
   "cell_type": "code",
   "execution_count": 10,
   "metadata": {
    "collapsed": false
   },
   "outputs": [
    {
     "name": "stdout",
     "output_type": "stream",
     "text": [
      "[0.0, a0]\n"
     ]
    }
   ],
   "source": [
    "print(solve(diff((2*x/a0**(3/2)*exp(-x/a0))**2,x),x)) # make the fist derivative of wavefunction squared equal to 0, then solve x"
   ]
  },
  {
   "cell_type": "markdown",
   "metadata": {},
   "source": [
    "There are two solutions, x = 0 is meaningless, x = $a_0$ is the most probable distance."
   ]
  },
  {
   "cell_type": "markdown",
   "metadata": {},
   "source": [
    "### 6. What is the probability of finding the electron further than $a_0$ from the proton?"
   ]
  },
  {
   "cell_type": "code",
   "execution_count": 11,
   "metadata": {
    "collapsed": false
   },
   "outputs": [
    {
     "name": "stdout",
     "output_type": "stream",
     "text": [
      "The probability of finding the electron further than a0 from the proton is 0.677.\n"
     ]
    }
   ],
   "source": [
    "a0 = 0.529e-10 # m\n",
    "Psi_1 = 2*x/a0**(3/2)*exp(-x/a0) # normalized wavefunction\n",
    "probability = integrate(Psi_1**2,(x,a0,oo))\n",
    "print(\"The probability of finding the electron further than a0 from the proton is {:.3f}.\".format(probability))"
   ]
  },
  {
   "cell_type": "markdown",
   "metadata": {},
   "source": [
    "### 7. If you measure the linear momentum of many electrons, all with the same wavefunction $\\tilde{\\Psi}_{1}(x)$ , will you get the same answer every time? What will you get on average? It is ok to express you answer in terms of fundamental constants."
   ]
  },
  {
   "cell_type": "markdown",
   "metadata": {},
   "source": [
    "Linear momentum operator is $\\hat{p}_x = -i\\hbar\\frac{d}{dx}$.\n",
    "$$\\hat{p}_x\\tilde{\\Psi}_{1}(x) = -i\\hbar\\frac{d}{dx}\\frac{2x}{a_0^{3/2}}e^{-x/a_0} = -i\\hbar\\frac{2}{a_0^{3/2}}(1-\\frac{x}{a_0})e^{-x/a_0}$$ We cannot write the result in the form of constant*$\\tilde{\\Psi}_{1}(x)$, so $\\tilde{\\Psi}_{1}(x)$ is not an eigenfunction of $\\hat{p}_x$. We will not get the same answer every time."
   ]
  },
  {
   "cell_type": "code",
   "execution_count": 12,
   "metadata": {
    "collapsed": false
   },
   "outputs": [
    {
     "name": "stdout",
     "output_type": "stream",
     "text": [
      "The average of momentum is 0.\n"
     ]
    }
   ],
   "source": [
    "from sympy import * # import sympy for symbolic mathematics\n",
    "x = symbols('x')\n",
    "i,hbar,a0 = symbols('i,hbar,a0',positive=True)\n",
    "Psi_1 = 2*x/a0**(3/2)*exp(-x/a0)\n",
    "pPsi_1 = -i*hbar*2/a0**(3/2)*(1-x/a0)*exp(-x/a0)\n",
    "print(\"The average of momentum is {}.\".format(integrate(Psi_1*pPsi_1,(x,0,oo))))"
   ]
  },
  {
   "cell_type": "markdown",
   "metadata": {},
   "source": [
    "Makes sense. If average momentum was anything but 0, the particle would have to be moving towards infinity."
   ]
  },
  {
   "cell_type": "markdown",
   "metadata": {},
   "source": [
    "### 8. If you measure the total energies of many electrons, all with the same wavefunction $\\tilde{\\Psi}_{1}(x)$, will you get the same answer every time? What will you get on average? (*Hint*: It will help to express $V(x)$ in terms of $a_0$ , $\\hbar$, and $m_e$ .)"
   ]
  },
  {
   "cell_type": "markdown",
   "metadata": {},
   "source": [
    "Total energy operator is $\\hat{H} = -\\frac{\\hbar^2}{2m_e}\\frac{d^2}{dx^2}-\\frac{\\hbar^2}{m_ea_0x}$.\n",
    "$$\\hat{H}\\tilde{\\Psi}_{1}(x) = -\\frac{\\hbar^2}{2m_e}\\frac{d^2}{dx^2}\\tilde{\\Psi}_{1}(x)-\\frac{\\hbar^2}{m_ea_0x}\\tilde{\\Psi}_{1}(x) = -\\frac{\\hbar^2}{2m_ea_0^2}\\frac{2x}{a_0^{3/2}}e^{-x/a_0}$$ The result is in the form of constant*$\\tilde{\\Psi}_{1}(x)$, so $\\tilde{\\Psi}_{1}(x)$ is the eigenfunction of $\\hat{H}$, we can get the same answer every time. The average is the constant $-\\frac{\\hbar^2}{2m_ea_0^2}$, which is called the eigenvalue of $\\tilde{\\Psi}_{1}(x)$ of the operator $\\hat{H}$."
   ]
  },
  {
   "cell_type": "markdown",
   "metadata": {},
   "source": [
    "### 9. The normalized wavefunction $\\tilde{\\Psi}_{2}(x) = \\frac{x}{\\sqrt{2}a_0^{3/2}}(1-\\frac{x}{2a_0})e^{-x/2a_0}$ is an eigenfunction of the one-dimensional H atom Schrödinger equation with eigenvalue $E_{2} = - \\frac{\\hbar^2}{8m_ea_0^2}$ . Plot $\\tilde{\\Psi}_{2}(x)$ . Are $\\tilde{\\Psi}_{1}(x)$ and $\\tilde{\\Psi}_{2}(x)$ orthogonal? (Be sure to justify your answer!)"
   ]
  },
  {
   "cell_type": "code",
   "execution_count": 25,
   "metadata": {
    "collapsed": false
   },
   "outputs": [
    {
     "data": {
      "image/png": "[encoded data removed]",
      "text/plain": [
       "<matplotlib.figure.Figure at 0x10ffc1320>"
      ]
     },
     "metadata": {},
     "output_type": "display_data"
    }
   ],
   "source": [
    "import numpy as np\n",
    "import matplotlib.pyplot as plt\n",
    "\n",
    "a0 = 0.529 # angstrom\n",
    "\n",
    "x = np.linspace(0,20,200)\n",
    "Psi_2 = x/2**0.5/a0**(3/2)*(1-x/2/a0)*np.exp(-x/2/a0) # normalized wavefunction\n",
    "plt.plot(x,Psi_2) # plot the oringinal wavefunction\n",
    "plt.xlabel('$x(Angstrom)$')\n",
    "plt.ylabel('$\\Psi_2(x)(\\AA^{-1/2})$')\n",
    "plt.show()"
   ]
  },
  {
   "cell_type": "code",
   "execution_count": 26,
   "metadata": {
    "collapsed": false
   },
   "outputs": [
    {
     "name": "stdout",
     "output_type": "stream",
     "text": [
      "0\n"
     ]
    }
   ],
   "source": [
    "from sympy import * # import sympy for symbolic mathematics\n",
    "x = symbols('x')\n",
    "a0 = symbols('a0',positive=True)\n",
    "Psi_1 = 2*x/a0**(3/2)*exp(-x/a0)\n",
    "Psi_2 = x/2**0.5/a0**(3/2)*(1-x/2/a0)*exp(-x/2/a0)\n",
    "print(integrate(Psi_1*Psi_2,(x,0,oo)))"
   ]
  },
  {
   "cell_type": "markdown",
   "metadata": {},
   "source": [
    "The integral $\\langle \\tilde{\\Psi}_{1}(x)\\lvert\\tilde{\\Psi}_{2}(x)\\rangle$ is equal to 0, which means the two wavefunctions are orthogonal."
   ]
  },
  {
   "cell_type": "markdown",
   "metadata": {},
   "source": [
    "### 10. Suppose an electron is in a superposition state described by $\\xi(x) = \\frac{1}{\\sqrt{3}}(\\tilde{\\Psi}_{1}(x) + \\sqrt{2}\\tilde{\\Psi}_{2}(x))$. If  you measure the total energies of many electrons, all with the same wavefunction $\\xi(x)$, will you get the same answer every time? What will you get on average? It is ok to express you answer in terms of fundamental constants."
   ]
  },
  {
   "cell_type": "markdown",
   "metadata": {},
   "source": [
    "Total energy operator is $\\hat{H}$. \n",
    "$$\\hat{H}\\xi(x) = \\hat{H}[\\frac{1}{\\sqrt{3}}(\\tilde{\\Psi}_{1}(x) + \\sqrt{2}\\tilde{\\Psi}_{2}(x))] = \\frac{1}{\\sqrt{3}}\\hat{H}\\tilde{\\Psi}_{1}(x)+\\frac{\\sqrt{2}}{\\sqrt{3}}\\hat{H}\\tilde{\\Psi}_{2}(x)$$ \n",
    "$$= \\frac{1}{\\sqrt{3}}E_1\\tilde{\\Psi}_{1}(x)+\\frac{\\sqrt{2}}{\\sqrt{3}}E_2\\tilde{\\Psi}_{2}(x)$$ \n",
    "$$= \\frac{1}{\\sqrt{3}}(-\\frac{\\hbar^2}{2m_ea_0^2})\\tilde{\\Psi}_{1}(x)+\\frac{\\sqrt{2}}{\\sqrt{3}}(-\\frac{\\hbar^2}{8m_ea_0^2})\\tilde{\\Psi}_{2}(x)$$ \n",
    "The result is not in the form of constant*$\\xi(x)$, so $\\xi(x)$ is not the eigenfunction of $\\hat{H}$, we can't get the same answer every time."
   ]
  },
  {
   "cell_type": "markdown",
   "metadata": {},
   "source": [
    "We can use \"braket\" notation to calculate the average value $\\langle H\\rangle$.\n",
    "$$\\langle H\\rangle = \\langle \\xi(x)\\lvert\\hat{H}\\rvert\\xi(x)\\rangle = \\langle \\frac{1}{\\sqrt{3}}(\\tilde{\\Psi}_{1}(x) + \\sqrt{2}\\tilde{\\Psi}_{2}(x))\\lvert\\hat{H}\\rvert\\frac{1}{\\sqrt{3}}(\\tilde{\\Psi}_{1}(x) + \\sqrt{2}\\tilde{\\Psi}_{2}(x))\\rangle$$\n",
    "$$= \\frac{1}{3}\\langle \\tilde{\\Psi}_{1}(x)\\lvert\\hat{H}\\rvert\\tilde{\\Psi}_{1}(x)\\rangle+ \\frac{\\sqrt{2}}{3}\\langle \\tilde{\\Psi}_{1}(x)\\lvert\\hat{H}\\rvert\\tilde{\\Psi}_{2}(x)\\rangle + \\frac{\\sqrt{2}}{3}\\langle \\tilde{\\Psi}_{2}(x)\\lvert\\hat{H}\\rvert\\tilde{\\Psi}_{1}(x)\\rangle+\\frac{2}{3}\\langle \\tilde{\\Psi}_{2}(x)\\lvert\\hat{H}\\rvert\\tilde{\\Psi}_{2}(x)\\rangle$$\n",
    "$$= \\frac{1}{3}E_1+\\frac{2}{3}E_2$$\n",
    "$$= -\\frac{\\hbar^2}{4m_ea_0^2}$$\n",
    "\n",
    "1/3 of the time we will measure $E_1$, 2/3 of the time $E_2$."
   ]
  },
  {
   "cell_type": "markdown",
   "metadata": {},
   "source": [
    "### 11. The uncertainties in the positions of an electron described by $\\tilde{\\Psi}_{1}(x)$ and $\\tilde{\\Psi}_{2}(x)$ can be shown to be $2^{1/2} a_{0}$ and $6^{1/2} a_{0}$, respectively. Contrast the uncertainties in their linear speeds."
   ]
  },
  {
   "cell_type": "markdown",
   "metadata": {
    "collapsed": true
   },
   "source": [
    "The uncertainty principle is $\\Delta x\\Delta p\\geq\\frac{\\hbar}{2}$. We also know $\\Delta x_1 = 2^{1/2} a_{0}$, $\\Delta x_2 = 6^{1/2} a_{0}$. The relationship between the uncertainties in linear speeds and the uncertainties in linear momentums is $\\Delta p = m\\Delta v$. So $\\Delta v\\geq\\frac{\\hbar}{2m\\Delta x}$."
   ]
  },
  {
   "cell_type": "code",
   "execution_count": 15,
   "metadata": {
    "collapsed": false
   },
   "outputs": [
    {
     "name": "stdout",
     "output_type": "stream",
     "text": [
      "The uncertainties in their linear speeds are 7.738E+05 m/s and 4.467E+05 m/s.\n"
     ]
    }
   ],
   "source": [
    "hbar = 1.05457e-34 #J*s\n",
    "me = 9.109e-31 # kg\n",
    "a0 = 0.529e-10 # m\n",
    "dx1 = 2**0.5*a0 # m\n",
    "dx2 = 6**0.5*a0 # m\n",
    "dv1 = hbar/2/me/dx1 # m/s\n",
    "dv2 = hbar/2/me/dx2 # m/s\n",
    "print(\"The uncertainties in their linear speeds are {0:.3E} m/s and {1:.3E} m/s.\".format(dv1,dv2))"
   ]
  },
  {
   "cell_type": "markdown",
   "metadata": {},
   "source": [
    "$\\Delta x_1 <\\Delta x_2$, according to the uncertainty principle, we get $\\Delta v_1 >\\Delta v_2$."
   ]
  },
  {
   "cell_type": "code",
   "execution_count": null,
   "metadata": {
    "collapsed": true
   },
   "outputs": [],
   "source": []
  }
 ],
 "metadata": {
  "anaconda-cloud": {},
  "kernelspec": {
   "display_name": "Python [default]",
   "language": "python",
   "name": "python3"
  },
  "language_info": {
   "codemirror_mode": {
    "name": "ipython",
    "version": 3
   },
   "file_extension": ".py",
   "mimetype": "text/x-python",
   "name": "python",
   "nbconvert_exporter": "python",
   "pygments_lexer": "ipython3",
   "version": "3.5.2"
  }
 },
 "nbformat": 4,
 "nbformat_minor": 1
}
