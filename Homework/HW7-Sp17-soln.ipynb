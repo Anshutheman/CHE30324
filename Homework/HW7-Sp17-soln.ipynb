{
 "cells": [
  {
   "cell_type": "markdown",
   "metadata": {},
   "source": [
    "# Chem 30324, Spring 2017, Homework 7\n",
    "Due March 24, 2017"
   ]
  },
  {
   "cell_type": "markdown",
   "metadata": {},
   "source": [
    "### The diatomic nitric oxide (NO) is an unusual and important molecule. It has an odd number of electrons, which is a rarity for stable molecule. It acts as a signaling molecule in the body, helping to regulate blood pressure, is a primary pollutant from combustion, and is a key constituent of smog. It exists in several isotopic forms, but the most common, ${}^{14}N={}^{16}O$, has a bond length of 1.15077 Å and harmonic vibrational frequency of 1904 cm$^{-1}$."
   ]
  },
  {
   "cell_type": "markdown",
   "metadata": {},
   "source": [
    "## NO goes for a spin"
   ]
  },
  {
   "cell_type": "markdown",
   "metadata": {},
   "source": [
    "### 1. Calculate the moment of inertia of ${}^{14}N= {}^{16}O$, in amu Å$^2$, and the rotational energy constant, $B$, in kJ mol$^{-1}$ and in cm$^{-1}$."
   ]
  },
  {
   "cell_type": "markdown",
   "metadata": {},
   "source": [
    "Moment of inertia: $I = \\mu r^2$. Rotational energy constant: $B = \\frac{\\hbar^2}{2I}$ (J); $B = \\frac{\\hbar}{4\\pi Ic}$ (cm$^{-1}$)."
   ]
  },
  {
   "cell_type": "code",
   "execution_count": 1,
   "metadata": {
    "collapsed": false
   },
   "outputs": [
    {
     "name": "stdout",
     "output_type": "stream",
     "text": [
      "The moment of inertia is 9.8876 amu*angstrom^2. The rotational energy constant B is 0.0204 kJ/mol, 1.7049 cm^-1.\n"
     ]
    }
   ],
   "source": [
    "import numpy as np\n",
    "\n",
    "N_14 = 14.003 # amu\n",
    "O_16 = 15.995 # amu\n",
    "mu = N_14*O_16/(N_14+O_16) # amu, reduced mass\n",
    "r = 1.15077 # angstrom, bond length\n",
    "hbar = 1.05457e-34 # J*s\n",
    "c = 2.998e10 # cm/s\n",
    "NA = 6.02214e23\n",
    "\n",
    "I = mu*r**2 # amu*angstrom^2\n",
    "I_ = I*1.6605e-27*1e-20 # kg*m^2\n",
    "B = hbar**2/(2*I_) # J\n",
    "B_ = hbar/(4*np.pi*I_*c) # cm^-1\n",
    "print ('The moment of inertia is {0:.4f} amu*angstrom^2. The rotational energy constant B is {1:.4f} kJ/mol, {2:.4f} cm^-1.'.format(I,B*NA/1000,B_))\n"
   ]
  },
  {
   "cell_type": "markdown",
   "metadata": {},
   "source": [
    "### 2. Imagine that the NO molecule is adsorbed flat on a surface upon which it is free to rotate. Plot out the energies of the four lowest-energy rotational quantum states, in units of $B$, being sure to include appropriate quantum numbers and degeneracies. Also indicate the total rotational angular moment of each state, in units of $\\hbar$."
   ]
  },
  {
   "cell_type": "markdown",
   "metadata": {},
   "source": [
    "2-D rigid rotor model: $E_{m_l} = \\frac{\\hbar^2m_l^2}{2I} = Bm_l^2$. Four lowest-energy rotational quantum states $m_l = 0, \\pm1, \\pm2, \\pm3$. Total rotational angular moment: $L_z = m_l\\hbar$."
   ]
  },
  {
   "cell_type": "markdown",
   "metadata": {},
   "source": [
    "![](imgs/HW7-1.jpg)"
   ]
  },
  {
   "cell_type": "markdown",
   "metadata": {},
   "source": [
    "### 3. Derive a selection rule for light-induced excitation of the plane-spinning NO molecule. *Hint:* Treat the NO as a 2-D rotor. Find the conditions on $\\Delta m_l$ that make the transition dipole moment integral $\\langle\\psi_{m_l}\\lvert x\\rvert\\psi_{m_l'}\\rangle$ non-zero. Recall that x can be written r cos φ in polar coordinates."
   ]
  },
  {
   "cell_type": "markdown",
   "metadata": {},
   "source": [
    "The wavefuction of a 2-D rotor: $\\psi_{m_l}(\\phi) = \\frac{1}{\\sqrt{2\\pi}}e^{-im_l\\phi}$. $\\langle\\psi_{m_l}\\lvert x\\rvert\\psi_{m_l'}\\rangle = \\int_{0}^{2\\pi}\\frac{1}{\\sqrt{2\\pi}}e^{im_l\\phi}x\\frac{1}{\\sqrt{2\\pi}}e^{-im_l'\\phi}d\\phi = \\frac{r}{2\\pi}\\int_{0}^{2\\pi}e^{i\\Delta m_l\\phi}cos\\phi d\\phi$."
   ]
  },
  {
   "cell_type": "markdown",
   "metadata": {},
   "source": [
    "Plug in $cos\\phi = \\frac{e^{-i\\phi}+e^{i\\phi}}{2}$, we can get $\\frac{r}{4\\pi}\\int_{0}^{2\\pi}(e^{i(\\Delta m_l-1)\\phi}+e^{i(\\Delta m_l+1)\\phi}) d\\phi$. For an integer n, only when n = 0, the integral $\\int_{0}^{2\\pi}e^{in\\phi}d\\phi \\neq 0$. "
   ]
  },
  {
   "cell_type": "markdown",
   "metadata": {},
   "source": [
    "So, we can get when $\\Delta m_l = \\pm1$ the transition dipole moment integral is non-zero."
   ]
  },
  {
   "cell_type": "markdown",
   "metadata": {},
   "source": [
    "### 4. Now imagine the NO molecule is free to rotate in three-dimensional space. As in Question 2 above, plot out the energies of the four lowest-energy rotational quantum states, in units of $B$, being sure to include appropriate quantum numbers and degeneracies. Also indicate the total rotational angular moment of each state, in units of $\\hbar$."
   ]
  },
  {
   "cell_type": "markdown",
   "metadata": {},
   "source": [
    "3-D rigid rotor model: $E_l = \\frac{\\hbar^2}{2I}l(l+1) = Bl(l+1)$. Four lowest-energy rotational quantum states $l = 0, 1, 2, 3$. Total rotational angular moment: $\\lvert L\\rvert = \\hbar\\sqrt{l(l+1)}$."
   ]
  },
  {
   "cell_type": "markdown",
   "metadata": {},
   "source": [
    "![](imgs/HW7-2.jpg)"
   ]
  },
  {
   "cell_type": "markdown",
   "metadata": {},
   "source": [
    "### 5. Use the vector model to sketch the total angular momentum vectors consistent with $l = 1$."
   ]
  },
  {
   "cell_type": "markdown",
   "metadata": {},
   "source": [
    "![](imgs/HW7-3.jpg)"
   ]
  },
  {
   "cell_type": "markdown",
   "metadata": {},
   "source": [
    "### 6. Predict the *positions* of the four lowest energy lines in the pure rotational spectrum of ${}^{14}N= {}^{16}O$, cm$^{-1}$."
   ]
  },
  {
   "cell_type": "markdown",
   "metadata": {},
   "source": [
    "$\\Delta \\tilde{E_l} = 2B(l+1), l = 0, 1, 2, 3$"
   ]
  },
  {
   "cell_type": "code",
   "execution_count": 2,
   "metadata": {
    "collapsed": false
   },
   "outputs": [
    {
     "name": "stdout",
     "output_type": "stream",
     "text": [
      "the positions of the four lowest energy lines in the pure rotational spectrum are\n",
      "3.4098 cm^-1\n",
      "6.8197 cm^-1\n",
      "10.2295 cm^-1\n",
      "13.6394 cm^-1\n"
     ]
    }
   ],
   "source": [
    "deltaE_l = []\n",
    "print('the positions of the four lowest energy lines in the pure rotational spectrum are')\n",
    "for l in [0,1,2,3]:\n",
    "    deltaE_l.append(2*B_*(l+1))\n",
    "    print('{:.4f} cm^-1'.format(deltaE_l[l]))"
   ]
  },
  {
   "cell_type": "markdown",
   "metadata": {},
   "source": [
    "### 7. Predict the *relative intensities* of the first 4 lines in the pure rotational spectrum of gaseous ${}^{14}N= {}^{16}O$ at 298 K. Recall that the intensities depend on the difference in populations of the initial ($l$) and final ($l'$) states, according to $g(l)\\left (e^{-\\varepsilon(l)/k_BT} - e^{-\\varepsilon(l')/k_BT}\\right)$."
   ]
  },
  {
   "cell_type": "markdown",
   "metadata": {},
   "source": [
    "$I_{l\\rightarrow l+1} = g(l)\\left (e^{-\\varepsilon(l)/k_BT} - e^{-\\varepsilon(l+1)/k_BT}\\right)$"
   ]
  },
  {
   "cell_type": "code",
   "execution_count": 3,
   "metadata": {
    "collapsed": false
   },
   "outputs": [
    {
     "name": "stdout",
     "output_type": "stream",
     "text": [
      "The relative intensities of the first 4 lines are \n",
      "0.0163\n",
      "0.0956\n",
      "0.2294\n",
      "0.4043\n"
     ]
    }
   ],
   "source": [
    "K = 1.38e-23 # J/K\n",
    "T = 298 # K\n",
    "E = []\n",
    "g = []\n",
    "for l in [0,1,2,3,4]:\n",
    "    E.append(B*l*(l+1)) # E(l)\n",
    "    g.append(2*l+1) # degeneracy\n",
    "print ('The relative intensities of the first 4 lines are ')\n",
    "I = []\n",
    "for l in [0,1,2,3]:\n",
    "    I.append(g[l]*(np.exp(-E[l]/K/T)-np.exp(-E[l+1]/K/T)))\n",
    "    print('{:.4f}'.format(I[l]))"
   ]
  },
  {
   "cell_type": "markdown",
   "metadata": {},
   "source": [
    "## NO takes a stretch"
   ]
  },
  {
   "cell_type": "markdown",
   "metadata": {},
   "source": [
    "### 8. Do you expect NO to exhibit an infrared absorption vibrational spectrum? Why or why not? If so, what initial and final vibrational states contribute most significantly to the spectrum?"
   ]
  },
  {
   "cell_type": "markdown",
   "metadata": {},
   "source": [
    "Since it has a dipole we would expect a vibrational spectra. We would also expect the molecules to start in the ground state at n = 0, so the biggest contribution to the spectra will be the n = 0 $\\rightarrow$ n = 1 transition."
   ]
  },
  {
   "cell_type": "markdown",
   "metadata": {},
   "source": [
    "### 9. Do you expect NO to exhibit a Raman vibrational spectrum? Why or why not? If so, what initial and final vibrational states contribute most significantly to the spectrum?"
   ]
  },
  {
   "cell_type": "markdown",
   "metadata": {},
   "source": [
    "The Raman vibrational spectrum requires molecules have non-zero dynamic polarizability (homonuclear, not heteronuclear). Since NO is a heteronuclear diatomic (has a dipole) I would not expect it to have a Raman spectrum."
   ]
  },
  {
   "cell_type": "markdown",
   "metadata": {},
   "source": [
    "### 10. Predict the positions of the central four lines in the rovibrational spectrum of ${}^{14}N= {}^{16}O$."
   ]
  },
  {
   "cell_type": "markdown",
   "metadata": {},
   "source": [
    "$\\Delta \\tilde{E} = \\tilde{\\nu}+2B(l+1), \\Delta l = 1;\\quad \\Delta \\tilde{E} = \\tilde{\\nu}-2Bl, \\Delta l = -1$"
   ]
  },
  {
   "cell_type": "markdown",
   "metadata": {},
   "source": [
    "$\\Delta \\tilde{E}_{2\\rightarrow1} = \\tilde{\\nu}-4B$, $\\Delta \\tilde{E}_{1\\rightarrow0} = \\tilde{\\nu}-2B$, $\\Delta \\tilde{E}_{0\\rightarrow1} = \\tilde{\\nu}+2B$, $\\Delta \\tilde{E}_{1\\rightarrow2} = \\tilde{\\nu}+4B$."
   ]
  },
  {
   "cell_type": "code",
   "execution_count": 4,
   "metadata": {
    "collapsed": false
   },
   "outputs": [
    {
     "name": "stdout",
     "output_type": "stream",
     "text": [
      "the positions of the central four lines in the rovibrational spectrum are\n",
      "1897.1803 cm^-1\n",
      "1900.5902 cm^-1\n",
      "1907.4098 cm^-1\n",
      "1910.8197 cm^-1\n"
     ]
    }
   ],
   "source": [
    "v = 1904 # cm^-1, vibrational frequency\n",
    "print('the positions of the central four lines in the rovibrational spectrum are')\n",
    "deltaE = [v-4*B_, v-2*B_, v+2*B_, v+4*B_]\n",
    "for i in deltaE:\n",
    "    print('{:.4f} cm^-1'.format(i))"
   ]
  },
  {
   "cell_type": "markdown",
   "metadata": {},
   "source": [
    "### 11. NO$_2$ readily forms from NO in the presence of oxygen. An infrared spectrum of NO$_2$ has three features, at 1318, 750, and 1618 cm$^{-1}$ . Is NO$_2$ a linear or bent molecule? Justify your answer."
   ]
  },
  {
   "cell_type": "markdown",
   "metadata": {},
   "source": [
    "Non-linear 3 atom molecule has 3n−6 = 3 vibrational modes. A linear molecule would have 3n−5 = 4 modes. Therefore NO$_2$ is bent."
   ]
  },
  {
   "cell_type": "markdown",
   "metadata": {
    "collapsed": true
   },
   "source": [
    "## I see the light!"
   ]
  },
  {
   "cell_type": "markdown",
   "metadata": {},
   "source": [
    "### 12. What is the difference between stimulated absorption and stimulated emission? How do the intrinsic rates of these two processes compare?"
   ]
  },
  {
   "cell_type": "markdown",
   "metadata": {},
   "source": [
    "In stimulated adsorption the photon is adsorbed by the molecule so the energy level rises. In stimulated emission the photon stimulates a drop in energy which which causes an extra photon to be emitted. The rate of adsorption and emission have the same rate constant and are proportional to the populations of the energy levels they are being emitted/adsorbed from, which depend on the Boltzmann distribution."
   ]
  },
  {
   "cell_type": "markdown",
   "metadata": {},
   "source": [
    "### 13. Under which of Einstein’s categories does “fluorescence” belong? Fluorescence is often used to study transitions with energies of a couple eV or more (corresponding to visible or higher energy light), but seldom/never used to study infrared or similar low energy (fractions of an eV) processes. Give a couple reasons why."
   ]
  },
  {
   "cell_type": "markdown",
   "metadata": {},
   "source": [
    "Fluorescence is a form of spontaneous emission. (1) The rate constant for spontaneous emission is proportional to the cube of the energy gap; large energy differences give more rapid and easy to detect fluorescence; (2) in fluorescence you excite a system and then watch for it to spontaneously emit; large energy differences ensures that the state you excite into starts out empty."
   ]
  },
  {
   "cell_type": "code",
   "execution_count": null,
   "metadata": {
    "collapsed": true
   },
   "outputs": [],
   "source": []
  }
 ],
 "metadata": {
  "anaconda-cloud": {},
  "kernelspec": {
   "display_name": "Python 3",
   "language": "python",
   "name": "python3"
  },
  "language_info": {
   "codemirror_mode": {
    "name": "ipython",
    "version": 3
   },
   "file_extension": ".py",
   "mimetype": "text/x-python",
   "name": "python",
   "nbconvert_exporter": "python",
   "pygments_lexer": "ipython3",
   "version": "3.6.0"
  }
 },
 "nbformat": 4,
 "nbformat_minor": 1
}
